{
 "cells": [
  {
   "cell_type": "markdown",
   "metadata": {},
   "source": [
    "# Sandpile Model by Per Bak\n",
    "\n",
    "Galen J. Wilkerson\n",
    "gjwilkerson@gmail.com\n",
    "\n",
    "## A model of avalanches in piles of sand\n",
    "\n",
    "For more information, see:\n",
    "\n",
    "Bak, Per. How nature works: the science of self-organized criticality. Springer Science & Business Media, 2013.\n",
    "\n",
    "Wiesenfeld, Kurt, Chao Tang, and Per Bak. \"A physicist's sandbox.\" Journal of statistical physics 54.5 (1989): 1441-1458."
   ]
  },
  {
   "cell_type": "code",
   "execution_count": 120,
   "metadata": {
    "collapsed": false
   },
   "outputs": [],
   "source": [
    "import numpy as np\n",
    "import matplotlib.pyplot as plt\n",
    "import random as rnd\n",
    "\n",
    "import seaborn as sns\n",
    "from matplotlib import animation, rc\n",
    "from IPython.display import HTML\n",
    "\n",
    "from ipywidgets import *\n",
    "\n",
    "# equivalent to rcParams['animation.html'] = 'html5'\n",
    "rc('animation', html='html5')\n",
    "\n",
    "%matplotlib inline\n",
    "\n",
    "# don't show warnings - nicer output\n",
    "import warnings\n",
    "warnings.filterwarnings('ignore')\n",
    "\n",
    "# display all results, not just last\n",
    "from IPython.core.interactiveshell import InteractiveShell\n",
    "InteractiveShell.ast_node_interactivity = \"all\"\n",
    "\n",
    "\n",
    "\n",
    "def setup(width, height):\n",
    "    sandbox = np.zeros([height, width], dtype=int)\n",
    "    \n",
    "    return(sandbox)\n",
    "\n",
    "def topple(sandbox, x, y):\n",
    "    \n",
    "    dimensions = sandbox.shape\n",
    "    \n",
    "    grains_at_site = sandbox[y,x]\n",
    "    \n",
    "    # edge cases\n",
    "    if (x < dimensions[1] - 1):\n",
    "        sandbox[y, x+1] += 1\n",
    "        if sandbox[y, x+1] == topple_height:\n",
    "            sandbox = topple(sandbox, x+1, y)\n",
    "    if (x > 0):\n",
    "        sandbox[y, x-1] += 1\n",
    "        if sandbox[y, x-1] == topple_height:\n",
    "            sandbox = topple(sandbox, x-1, y)\n",
    "    if (y < dimensions[0] - 1):\n",
    "        sandbox[y+1, x] += 1\n",
    "        if sandbox[y+1, x] == topple_height:\n",
    "            sandbox = topple(sandbox, x, y+1)\n",
    "    if (y > 0):\n",
    "        sandbox[y-1, x] += 1\n",
    "        if sandbox[y-1, x] == topple_height:\n",
    "            sandbox = topple(sandbox, x, y-1)\n",
    "    \n",
    "    # reset x\n",
    "    sandbox[y,x] = 0\n",
    "    \n",
    "    return(sandbox)\n",
    "\n",
    "def run_sandbox(sandbox, number_iterations, width, height, topple_height):\n",
    "    \n",
    "    sandbox_at_timestep = []\n",
    "    sandbox_at_timestep.append(sandbox.copy())\n",
    "    \n",
    "    for i in range(number_iterations):\n",
    "\n",
    "        x = rnd.randint(0, width-1)\n",
    "        y = rnd.randint(0, height-1)\n",
    "\n",
    "        sandbox[y, x] += 1\n",
    "        if sandbox[y, x] == topple_height:\n",
    "            sandbox = topple(sandbox, x, y)\n",
    "    \n",
    "        sandbox_at_timestep.append(sandbox.copy())\n",
    "    \n",
    "    return(sandbox_at_timestep)\n",
    "\n",
    "def plotSand(sandbox_at_timestep, num_iterations, i=0, topple_height=4):\n",
    "    \n",
    "    data = sandbox_at_timestep[i]\n",
    "    sns.heatmap(data, vmax=topple_height, square=True)\n",
    "\n",
    "    max_grains = max([np.sum(sandbox) for sandbox in sandbox_at_timestep])\n",
    "    \n",
    "    num_grains = []\n",
    "    for j in range(i):\n",
    "        num_grains.append(sandbox_at_timestep[j].sum())\n",
    "    \n",
    "    plt.figure()\n",
    "    plt.plot(num_grains)\n",
    "    plt.xlim([0, num_iterations])\n",
    "    plt.ylim([0, max_grains])\n",
    "    plt.title(\"number of grains\")\n",
    "    \n",
    "\n",
    "def animate(sandbox_at_timestep, width, height, topple_height):\n",
    "\n",
    "    #fig = plt.figure()\n",
    "    fig, ax = plt.subplots()\n",
    "\n",
    "    def init():\n",
    "        #sns.heatmap(np.zeros((width, height)), vmax=topple_height, square=True)\n",
    "        pass\n",
    "\n",
    "    def animate(i):\n",
    "        plt.clf()\n",
    "    #    data = np.random.rand(width, height)\n",
    "        data = sandbox_at_timestep[i]\n",
    "        \n",
    "        sns.heatmap(data, vmax=topple_height, square=True)\n",
    "        \n",
    "    anim = animation.FuncAnimation(fig, animate, init_func=init, frames=number_iterations, repeat = False)\n",
    "    #return(HTML(anim.to_html5_video()))\n",
    "    return(anim)"
   ]
  },
  {
   "cell_type": "markdown",
   "metadata": {},
   "source": [
    "# Control parameters:\n",
    "# size and number of grains to randomly add to pile"
   ]
  },
  {
   "cell_type": "code",
   "execution_count": 127,
   "metadata": {
    "collapsed": true
   },
   "outputs": [],
   "source": [
    "width = 10\n",
    "height = 10\n",
    "number_iterations = 1000"
   ]
  },
  {
   "cell_type": "markdown",
   "metadata": {},
   "source": [
    "# Run the simulation and get the results at each timestep"
   ]
  },
  {
   "cell_type": "code",
   "execution_count": 128,
   "metadata": {
    "collapsed": false
   },
   "outputs": [],
   "source": [
    "topple_height = 4 # for now, keep fixed at 4\n",
    "\n",
    "sandbox = setup(width, height)\n",
    "\n",
    "sandbox_at_timestep = run_sandbox(sandbox, number_iterations, width, height, topple_height)"
   ]
  },
  {
   "cell_type": "markdown",
   "metadata": {},
   "source": [
    "# Create an animation of the output (can be very slow)"
   ]
  },
  {
   "cell_type": "raw",
   "metadata": {
    "collapsed": false
   },
   "source": [
    "max([np.sum(i) for i in sandbox_at_timestep])"
   ]
  },
  {
   "cell_type": "code",
   "execution_count": null,
   "metadata": {
    "collapsed": false,
    "scrolled": false
   },
   "outputs": [],
   "source": [
    "animate(sandbox_at_timestep, width, height, topple_height)"
   ]
  },
  {
   "cell_type": "markdown",
   "metadata": {},
   "source": [
    "# Another way to view the sandpile at each timestep"
   ]
  },
  {
   "cell_type": "markdown",
   "metadata": {},
   "source": [
    "## Can click slider then push the arrow keys to move slider"
   ]
  },
  {
   "cell_type": "code",
   "execution_count": 130,
   "metadata": {
    "collapsed": false
   },
   "outputs": [
    {
     "data": {
      "image/png": "[encoded data removed]",
      "text/plain": [
       "<matplotlib.figure.Figure at 0x7f888069a2e8>"
      ]
     },
     "metadata": {},
     "output_type": "display_data"
    },
    {
     "data": {
      "image/png": "[encoded data removed]",
      "text/plain": [
       "<matplotlib.figure.Figure at 0x7f888cea3320>"
      ]
     },
     "metadata": {},
     "output_type": "display_data"
    }
   ],
   "source": [
    "myInteract = interact(plotSand, \n",
    "                      sandbox_at_timestep=fixed(sandbox_at_timestep), \n",
    "                      topple_height = fixed(topple_height), \n",
    "                      i = (0, number_iterations, 1),\n",
    "                      num_iterations = fixed(number_iterations))"
   ]
  },
  {
   "cell_type": "markdown",
   "metadata": {},
   "source": [
    "## Just plot the number of grains in the pile over time"
   ]
  },
  {
   "cell_type": "code",
   "execution_count": 133,
   "metadata": {
    "collapsed": false
   },
   "outputs": [
    {
     "data": {
      "image/png": "[encoded data removed]",
      "text/plain": [
       "<matplotlib.figure.Figure at 0x7f887fdba3c8>"
      ]
     },
     "metadata": {},
     "output_type": "display_data"
    }
   ],
   "source": [
    "num_grains = []\n",
    "for i in range(number_iterations - 1):\n",
    "    num_grains.append(sandbox_at_timestep[i].sum())\n",
    "\n",
    "plt.plot(num_grains);\n",
    "plt.title('number of grains in pile');"
   ]
  },
  {
   "cell_type": "markdown",
   "metadata": {},
   "source": [
    "## We might ask whether this is $1/f$ noise"
   ]
  },
  {
   "cell_type": "code",
   "execution_count": null,
   "metadata": {
    "collapsed": true
   },
   "outputs": [],
   "source": []
  },
  {
   "cell_type": "code",
   "execution_count": null,
   "metadata": {
    "collapsed": true
   },
   "outputs": [],
   "source": []
  }
 ],
 "metadata": {
  "kernelspec": {
   "display_name": "Python 3",
   "language": "python",
   "name": "python3"
  },
  "language_info": {
   "codemirror_mode": {
    "name": "ipython",
    "version": 3
   },
   "file_extension": ".py",
   "mimetype": "text/x-python",
   "name": "python",
   "nbconvert_exporter": "python",
   "pygments_lexer": "ipython3",
   "version": "3.6.0"
  },
  "widgets": {
   "state": {
    "000bb2a07e30417ebd2b32b8b8f04b08": {
     "views": [
      {
       "cell_index": 7
      }
     ]
    },
    "17f45de892f24749a3a2155b6156d086": {
     "views": [
      {
       "cell_index": 13
      }
     ]
    },
    "25c8ffcf30e84c37b666b28628b1a015": {
     "views": [
      {
       "cell_index": 10
      }
     ]
    },
    "4e7299ba8e494ea5bb1fdc73ab15ba7b": {
     "views": [
      {
       "cell_index": 13
      }
     ]
    },
    "6d37a8d910ba4cd0aeecb651315f8e4b": {
     "views": [
      {
       "cell_index": 7
      }
     ]
    },
    "70ca92dcbcb84153a4829602147d114d": {
     "views": [
      {
       "cell_index": 13
      }
     ]
    },
    "87c5b34fc2ad4f2995e38381eef8625c": {
     "views": [
      {
       "cell_index": 13
      }
     ]
    },
    "b861c937598746ada124fafcd626307a": {
     "views": [
      {
       "cell_index": 7
      }
     ]
    },
    "c834f87eb20f41ff970ea4a6f36fe68a": {
     "views": [
      {
       "cell_index": 7
      }
     ]
    },
    "cf59f10151cc42039fff460222b155ef": {
     "views": [
      {
       "cell_index": 7
      }
     ]
    },
    "dc5c8103bdeb4f5d830a456e4b45b5b4": {
     "views": [
      {
       "cell_index": 7
      }
     ]
    },
    "e46c95aa454941d68b8d1d780f1ccbf4": {
     "views": [
      {
       "cell_index": 7
      }
     ]
    },
    "ee57112dd21d4c83bc6ae69cc44ac83d": {
     "views": [
      {
       "cell_index": 7
      }
     ]
    },
    "fa5388f9c8184375893c302e575f68ca": {
     "views": [
      {
       "cell_index": 7
      }
     ]
    }
   },
   "version": "1.2.0"
  }
 },
 "nbformat": 4,
 "nbformat_minor": 2
}
